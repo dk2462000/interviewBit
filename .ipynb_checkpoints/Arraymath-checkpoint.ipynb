{
 "cells": [
  {
   "cell_type": "markdown",
   "metadata": {},
   "source": [
    "# Array math"
   ]
  },
  {
   "cell_type": "code",
   "execution_count": 4,
   "metadata": {},
   "outputs": [
    {
     "name": "stdout",
     "output_type": "stream",
     "text": [
      "[1, 2, 5]\n"
     ]
    }
   ],
   "source": [
    "def maxset(A):\n",
    "    tempsum=0\n",
    "    maxsum=0\n",
    "    start=0\n",
    "    end=0\n",
    "    mark=0\n",
    "    \n",
    "    for i,val in enumerate(A):\n",
    "        if val<0:\n",
    "            mark=i+1\n",
    "            tempsum=0\n",
    "            continue\n",
    "        tempsum+=val\n",
    "        if tempsum >= maxsum:\n",
    "            start=mark\n",
    "            end=i+1\n",
    "            maxsum=tempsum\n",
    "    return A[start:end]\n",
    "\n",
    "A=[1, 2, 5, -7, 2, 3]\n",
    "print(maxset(A))"
   ]
  },
  {
   "cell_type": "markdown",
   "metadata": {},
   "source": [
    "#   2 )))))   Max Sum Contiguous Subarray(MMMMIP)"
   ]
  },
  {
   "cell_type": "raw",
   "metadata": {},
   "source": [
    "# Find the contiguous subarray within an array, A of length N which has the largest sum.\n",
    "\n",
    "Input Format:\n",
    "\n",
    "The first and the only argument contains an integer array, A.\n",
    "Output Format:\n",
    "\n",
    "Return an integer representing the maximum possible sum of the contiguous subarray.\n",
    "Constraints:\n",
    "\n",
    "1 <= N <= 1e6\n",
    "-1000 <= A[i] <= 1000\n",
    "For example:\n",
    "\n",
    "Input 1:\n",
    "    A = [1, 2, 3, 4, -10]\n",
    "\n",
    "Output 1:\n",
    "    10\n",
    "\n",
    "Explanation 1:\n",
    "    The subarray [1, 2, 3, 4] has the maximum possible sum of 10.\n",
    "\n",
    "Input 2:\n",
    "    A = [-2, 1, -3, 4, -1, 2, 1, -5, 4]\n",
    "\n",
    "Output 2:\n",
    "    6\n",
    "\n",
    "Explanation 2:\n",
    "    The subarray [4,-1,2,1] has the maximum possible sum of 6.\n",
    " NOTE: You only need to implement the given function. Do not read input, instead use the arguments to the function. Do not print the output, instead return values as specified. Still have a doubt? Checkout Sample Codes for more details. "
   ]
  },
  {
   "cell_type": "code",
   "execution_count": null,
   "metadata": {},
   "outputs": [],
   "source": [
    "class Solution:\n",
    "    # @param A : tuple of integers\n",
    "    # @return an integer\n",
    "    def maxSubArray(self, A):\n",
    "        \n",
    "        tempsum=A[0]\n",
    "        c=A[0]\n",
    "        m=A[0]\n",
    "        if len(A)==1:\n",
    "            return A[0]\n",
    "        \n",
    "        for i,val in enumerate(A[1::]):\n",
    "            tempsum=tempsum+val\n",
    "            c=max(val,c+val)\n",
    "            m=max(m,c)\n",
    "            \n",
    "            \n",
    "                \n",
    "        return max(m,tempsum)\n",
    "                "
   ]
  },
  {
   "cell_type": "markdown",
   "metadata": {},
   "source": [
    "# 3))) Maximum Absolute Difference"
   ]
  },
  {
   "cell_type": "markdown",
   "metadata": {},
   "source": [
    "You are given an array of N integers, A1, A2 ,…, AN. Return maximum value of f(i, j) for all 1 ≤ i, j ≤ N.\n",
    "f(i, j) is defined as |A[i] - A[j]| + |i - j|, where |x| denotes absolute value of x.\n",
    "\n",
    "For example,\n",
    "\n",
    "A=[1, 3, -1]\n",
    "\n",
    "f(1, 1) = f(2, 2) = f(3, 3) = 0\n",
    "f(1, 2) = f(2, 1) = |1 - 3| + |1 - 2| = 3\n",
    "f(1, 3) = f(3, 1) = |1 - (-1)| + |1 - 3| = 4\n",
    "f(2, 3) = f(3, 2) = |3 - (-1)| + |2 - 3| = 5\n",
    "\n",
    "So, we return 5."
   ]
  },
  {
   "cell_type": "code",
   "execution_count": 31,
   "metadata": {},
   "outputs": [
    {
     "name": "stdout",
     "output_type": "stream",
     "text": [
      "2 2 2\n",
      "[0, 0, 1, 2]\n",
      "[0, 0, 1, 2, 0, 1, 0, 1]\n",
      "[0, 0, 1, 2, 0, 1, 0, 1, 0, 2, 1, 0]\n",
      "2\n"
     ]
    }
   ],
   "source": [
    "def maxArr(A):\n",
    "        max1=[]\n",
    "        i=1\n",
    "        A.insert(0,0)\n",
    "        while i<len(A):\n",
    "            for j in range(len(A)):\n",
    "                if(i<len(A)):\n",
    "                    if i==j or i==0 or j==0:\n",
    "                        max1.append(0)\n",
    "                    else:\n",
    "                         max1.append(abs(A[i]-A[j])+abs(i-j))\n",
    "                            \n",
    "                         \n",
    "                            \n",
    "            i+=1\n",
    "            print(max1)\n",
    "        return max(max1)\n",
    "A=[int(i) for i in input().split()]\n",
    "print(maxArr(A))"
   ]
  },
  {
   "cell_type": "code",
   "execution_count": 33,
   "metadata": {},
   "outputs": [],
   "source": [
    "def maxArr(self,A):\n",
    "        a=[]\n",
    "        b=[]\n",
    "        for i in range(len(A)):\n",
    "            a.append(A[i]+i)\n",
    "            b.append(A[i]-i)\n",
    "        a.sort()\n",
    "        b.sort()\n",
    "        return max(a[-1]-a[0],b[-1]-b[0])\n",
    "            "
   ]
  },
  {
   "cell_type": "code",
   "execution_count": null,
   "metadata": {},
   "outputs": [],
   "source": [
    "class Solution:\n",
    "# @param A : list of integers\n",
    "# @return an integer\n",
    "def maxArr(self,A):\n",
    "a=[]\n",
    "b=[]\n",
    "for i in range(len(A)):\n",
    "a.append(A[i]+i)\n",
    "b.append(A[i]-i)\n",
    "\n",
    "    return max(max(a)-min(a),max(b)-min(b))"
   ]
  },
  {
   "cell_type": "code",
   "execution_count": 34,
   "metadata": {},
   "outputs": [
    {
     "name": "stdout",
     "output_type": "stream",
     "text": [
      "The repeating element is 213\n",
      "and the missing element is 87\n"
     ]
    }
   ],
   "source": [
    "# Python3 code to Find the repeating \n",
    "# and the missing elements \n",
    "\n",
    "def printTwoElements( arr, size): \n",
    "\tfor i in range(size): \n",
    "\t\tif arr[abs(arr[i])-1] > 0: \n",
    "\t\t\tarr[abs(arr[i])-1] = -arr[abs(arr[i])-1] \n",
    "\t\telse: \n",
    "\t\t\tprint(\"The repeating element is\", abs(arr[i])) \n",
    "\t\t\t\n",
    "\tfor i in range(size): \n",
    "\t\tif arr[i]>0: \n",
    "\t\t\tprint(\"and the missing element is\", i + 1) \n",
    "\n",
    "# Driver program to test above function */ \n",
    "arr = [ 389, 299, 65, 518, 361, 103, 342, 406, 24, 79, 192, 181, 178, 205, 38, 298, 218, 143, 446, 324, 82, 41, 312, 166, 252, 59, 91, 6, 248, 395, 157, 332, 352, 57, 106, 246, 506, 261, 16, 470, 224, 228, 286, 121, 193, 241, 203, 36, 264, 234, 386, 471, 225, 466, 81, 58, 253, 468, 31, 197, 15, 282, 334, 171, 358, 209, 213, 158, 355, 243, 75, 411, 43, 485, 291, 270, 25, 100, 194, 476, 70, 402, 403, 109, 322, 421, 313, 239, 327, 238, 257, 433, 254, 328, 163, 436, 520, 437, 392, 199, 63, 482, 222, 500, 454, 84, 265, 508, 416, 141, 447, 258, 384, 138, 47, 156, 172, 319, 137, 62, 85, 154, 97, 18, 360, 244, 272, 93, 263, 262, 266, 290, 369, 357, 176, 317, 383, 333, 204, 56, 521, 502, 326, 353, 469, 455, 190, 393, 453, 314, 480, 189, 77, 129, 439, 139, 441, 443, 351, 528, 182, 101, 501, 425, 126, 231, 445, 155, 432, 418, 95, 375, 376, 60, 271, 74, 11, 419, 488, 486, 54, 460, 321, 341, 174, 408, 131, 115, 107, 134, 448, 532, 292, 289, 320, 14, 323, 61, 481, 371, 151, 385, 325, 472, 44, 335, 431, 187, 51, 88, 105, 145, 215, 122, 162, 458, 52, 496, 277, 362, 374, 26, 211, 452, 130, 346, 10, 315, 459, 92, 531, 467, 309, 34, 281, 478, 477, 136, 519, 196, 240, 12, 288, 302, 119, 356, 503, 527, 22, 27, 55, 343, 490, 127, 444, 308, 354, 278, 497, 191, 294, 117, 1, 396, 125, 148, 285, 509, 208, 382, 297, 405, 245, 5, 330, 311, 133, 274, 275, 118, 463, 504, 39, 99, 442, 337, 169, 140, 104, 373, 221, 499, 413, 124, 510, 159, 465, 80, 276, 83, 329, 524, 255, 387, 259, 397, 491, 517, 23, 4, 230, 48, 349, 412, 142, 114, 487, 381, 164, 35, 67, 498, 73, 440, 108, 226, 96, 132, 144, 207, 235, 33, 69, 128, 236, 364, 198, 475, 173, 493, 150, 90, 515, 111, 68, 232, 340, 112, 526, 492, 512, 495, 429, 146, 336, 17, 350, 251, 7, 184, 76, 380, 359, 293, 19, 49, 345, 227, 212, 430, 89, 474, 279, 201, 398, 347, 273, 37, 185, 177, 102, 304, 295, 422, 94, 426, 514, 116, 183, 180, 494, 42, 305, 152, 390, 30, 247, 451, 32, 388, 331, 78, 424, 368, 394, 188, 306, 449, 8, 214, 120, 179, 280, 511, 409, 338, 153, 507, 370, 461, 217, 161, 483, 147, 242, 86, 417, 268, 71, 462, 420, 167, 513, 379, 307, 522, 435, 113, 296, 457, 525, 45, 529, 423, 427, 2, 438, 64, 316, 46, 40, 13, 516, 367, 233, 110, 318, 250, 283, 216, 186, 310, 237, 377, 365, 175, 479, 378, 66, 414, 473, 165, 210, 50, 348, 372, 363, 339, 20, 168, 284, 415, 505, 206, 53, 223, 434, 202, 123, 399, 400, 135, 269, 428, 219, 456, 28, 464, 267, 489, 98, 391, 195, 366, 300, 484, 533, 229, 213, 149, 160, 256, 303, 530, 301, 29, 404, 344, 401, 220, 287, 9, 407, 170, 450, 523, 249, 72, 410, 3, 21, 200, 260 ]\n",
    "n = len(arr) \n",
    "printTwoElements(arr, n) \n",
    "\n",
    "# This code is contributed by \"Abhishek Sharma 44\" \n"
   ]
  },
  {
   "cell_type": "markdown",
   "metadata": {},
   "source": [
    "# Repeat and Missing Number Array -Amazon"
   ]
  },
  {
   "cell_type": "markdown",
   "metadata": {},
   "source": [
    "You are given a read only array of n integers from 1 to n.\n",
    "\n",
    "Each integer appears exactly once except A which appears twice and B which is missing.\n",
    "\n",
    "Return A and B.\n",
    "\n",
    "Note: Your algorithm should have a linear runtime complexity. Could you implement it without using extra memory?\n",
    "\n",
    "Note that in your output A should precede B.\n",
    "\n",
    "Example:\n",
    "\n",
    "Input:[3 1 2 5 3] \n",
    "\n",
    "Output:[3, 4] \n",
    "\n",
    "A = 3, B = 4"
   ]
  },
  {
   "cell_type": "code",
   "execution_count": null,
   "metadata": {},
   "outputs": [],
   "source": [
    "class Solution:\n",
    "    \n",
    "    # @param A : tuple of integers\n",
    "    # @return a list of integers\n",
    "    def repeatedNumber(self, a):\n",
    "        \n",
    "        a=list(a)\n",
    "        b=[]\n",
    "        for i in range(len(a)): \n",
    "            if a[abs(a[i])-1] > 0: \n",
    "                a[abs(a[i])-1] = -a[abs(a[i])-1] \n",
    "            else:\n",
    "                b.append(abs(a[i]))\n",
    "        for i in range(len(a)): \n",
    "            if a[i]>0:\n",
    "                b.append(i+1)\n",
    "        \n",
    "                \n",
    "        return b\n",
    "    \n"
   ]
  },
  {
   "cell_type": "code",
   "execution_count": null,
   "metadata": {},
   "outputs": [],
   "source": [
    "def repeatedNumber(self, A):\n",
    "\n",
    "    n=len(A)\n",
    "    return [sum(A)-sum(set(A))   , int((n*(n+1))/2 - sum(set(A)))  ]"
   ]
  },
  {
   "cell_type": "code",
   "execution_count": null,
   "metadata": {},
   "outputs": [],
   "source": [
    "lass Solution:\n",
    "    # @param A : tuple of integers\n",
    "    # @return a list of integers\n",
    "    def repeatedNumber(self, A):\n",
    "        n = len(A)\n",
    "        x = sum(A) - sum(set(A))\n",
    "        k = sum(A) - int(n*(n+1)/2)\n",
    "    \n",
    "        return [x,x-k]\n"
   ]
  },
  {
   "cell_type": "code",
   "execution_count": null,
   "metadata": {},
   "outputs": [],
   "source": [
    "class Solution:\n",
    "    # @param A : tuple of integers\n",
    "    # @return a list of integers\n",
    "    \n",
    "    \n",
    "    def repeatedNumber(self, A):\n",
    "        n = len(A)\n",
    "        \n",
    "        S = sum(A)\n",
    "        Sn = (n*(n+1))//2\n",
    "        \n",
    "        \n",
    "        S2 = 0\n",
    "        for num in A:\n",
    "            S2 += num*num  \n",
    "        \n",
    "        S2n =(n*(n+1)*(2*n+1))//6\n",
    "        \n",
    "        diff = S - Sn\n",
    "        summation = (S2 - S2n)//diff\n",
    "        \n",
    "        D = (summation - diff)//2\n",
    "        R = summation - D\n",
    "        \n",
    "        return [R,D]\n",
    "        \n",
    "\n",
    "            \n",
    "        \n"
   ]
  },
  {
   "cell_type": "code",
   "execution_count": null,
   "metadata": {},
   "outputs": [],
   "source": [
    "class Solution:\n",
    "    # @param A : tuple of integers\n",
    "    # @return a list of integers\n",
    "    def repeatedNumber(self, A):\n",
    "        size = len(A) + 1\n",
    "        count = [0] * size\n",
    "\n",
    "        for val in A:\n",
    "            count[val] += 1\n",
    "\n",
    "            res1 = 0\n",
    "            res2 = 0\n",
    "\n",
    "        for idx, val in enumerate(count):\n",
    "            if val == 2:\n",
    "                res1 = idx\n",
    "            if val == 0:\n",
    "                res2 = idx"
   ]
  },
  {
   "cell_type": "markdown",
   "metadata": {},
   "source": [
    "# Flip-Vmware"
   ]
  },
  {
   "cell_type": "markdown",
   "metadata": {},
   "source": [
    "You are given a binary string(i.e. with characters 0 and 1) S consisting of characters S1, S2, …, SN. In a single operation, you can choose two indices L and R such that 1 ≤ L ≤ R ≤ N and flip the characters SL, SL+1, …, SR. By flipping, we mean change character 0 to 1 and vice-versa.\n",
    "\n",
    "Your aim is to perform ATMOST one operation such that in final string number of 1s is maximised. If you don’t want to perform the operation, return an empty array. Else, return an array consisting of two elements denoting L and R. If there are multiple solutions, return the lexicographically smallest pair of L and R.\n",
    "\n",
    "Notes:\n",
    "\n",
    "Pair (a, b) is lexicographically smaller than pair (c, d) if a < c or, if a == c and b < d.\n",
    "For example,\n",
    "\n",
    "\n",
    "S = 010\n",
    "\n",
    "Pair of [L, R] | Final string\n",
    "_______________|_____________\n",
    "[1 1]          | 110\n",
    "[1 2]          | 100\n",
    "[1 3]          | 101\n",
    "[2 2]          | 000\n",
    "[2 3]          | 001\n",
    "\n",
    "We see that two pairs [1, 1] and [1, 3] give same number of 1s in final string. So, we return [1, 1].\n",
    "\n",
    "\n",
    "\n",
    "Another example,\n",
    "\n",
    "If S = 111\n",
    "\n",
    "No operation can give us more than three 1s in final string. So, we return empty array [].\n",
    "\n"
   ]
  },
  {
   "cell_type": "code",
   "execution_count": null,
   "metadata": {},
   "outputs": [],
   "source": [
    "class Solution:\n",
    "    # @param A : string\n",
    "    # @return a list of integers\n",
    "    def flip(self, A):\n",
    "        max_diff = 0\n",
    "        diff = 0\n",
    "        ones = 0\n",
    "        start = 0\n",
    "        ans = None\n",
    "\n",
    "        for i, a in enumerate(A):\n",
    "            diff += (1 if a is '0' else -1)\n",
    "\n",
    "            if diff < 0:\n",
    "                diff = 0\n",
    "                start = i + 1\n",
    "                continue\n",
    "\n",
    "            if diff > max_diff:\n",
    "                max_diff = diff\n",
    "                ans = [start, i]\n",
    "\n",
    "        if ans is None:\n",
    "            return []\n",
    "        return map(lambda x: x + 1, ans)"
   ]
  },
  {
   "cell_type": "code",
   "execution_count": null,
   "metadata": {},
   "outputs": [],
   "source": [
    "class Solution:\n",
    "# @param A : string\n",
    "# @return a list of integers\n",
    "     def flip(self, A):\n",
    "   \n",
    "         if not '0' in A:\n",
    "              return []\n",
    "    \n",
    "         arr = []\n",
    "         for c in A:\n",
    "             if c == '0':\n",
    "                 arr.append(+1)\n",
    "             elif c == '1':\n",
    "                 arr.append(-1)\n",
    "    \n",
    "         return self.max_subarray_indices(arr)\n",
    "\n",
    "     def max_subarray_indices(self, arr):\n",
    "    \n",
    "         max_sum = arr[0]\n",
    "         max_start = 0\n",
    "         max_end = 0\n",
    "         \n",
    "         curr_sum = arr[0]\n",
    "         start_ind = 0\n",
    "         end_ind = 0\n",
    "    \n",
    "         for idx, el in enumerate(arr[1:]):\n",
    "        \n",
    "             if curr_sum + el < el:\n",
    "                 curr_sum = el\n",
    "                 start_ind = idx+1\n",
    "                 end_ind = idx+1\n",
    "             else:\n",
    "                 curr_sum += el\n",
    "                 end_ind += 1\n",
    "        \n",
    "             if curr_sum > max_sum:\n",
    "                 max_sum = curr_sum\n",
    "                 max_start = start_ind\n",
    "                 max_end = end_ind\n",
    "    \n",
    "         return [max_start+1, max_end+1]"
   ]
  },
  {
   "cell_type": "code",
   "execution_count": null,
   "metadata": {},
   "outputs": [],
   "source": [
    "class Solution:\n",
    "    # @param A : string\n",
    "    # @return a list of integers\n",
    "    def flip(self, A):\n",
    "        l = 0\n",
    "        pair = []\n",
    "        max_ones = 0\n",
    "        curr_ones = 0\n",
    "        for r in range(len(A)):\n",
    "            \n",
    "            if A[r] == '0':\n",
    "                curr_ones += 1\n",
    "                \n",
    "                if curr_ones > max_ones:\n",
    "                    max_ones = curr_ones\n",
    "                    pair = [l+1, r+1]\n",
    "                    \n",
    "            else:\n",
    "                curr_ones -= 1\n",
    "                if curr_ones < 0:\n",
    "                    l = r+1\n",
    "                    curr_ones = 0\n",
    "        return pair"
   ]
  },
  {
   "cell_type": "code",
   "execution_count": null,
   "metadata": {},
   "outputs": [],
   "source": [
    "class Solution:\n",
    "    # @param A : string\n",
    "    # @return a list of integers\n",
    "    def flip(self, A):\n",
    "        A, n = list(A), len(A)\n",
    "        L=-1\n",
    "        for i in range(0,n):\n",
    "            if(A[i]=='0'):\n",
    "                L=i\n",
    "                break\n",
    "        if(L==-1):\n",
    "            x=[]\n",
    "            return x\n",
    "        x=[-1,-1]\n",
    "        max=0\n",
    "        count=0\n",
    "        R=L\n",
    "        for i in range(L,n):\n",
    "            if(A[i]=='0'):\n",
    "                count+=1\n",
    "            else:\n",
    "                count-=1\n",
    "            if(count>max):\n",
    "                x=[L,R]\n",
    "                max=count\n",
    "            if(count<0):\n",
    "                count=0\n",
    "                L=i+1\n",
    "            R+=1\n",
    "        if(x[0]==-1):\n",
    "            x=[]\n",
    "        else:\n",
    "            x[0]+=1\n",
    "            x[1]+=1\n",
    "        return x\n"
   ]
  }
 ],
 "metadata": {
  "kernelspec": {
   "display_name": "Python 3",
   "language": "python",
   "name": "python3"
  },
  "language_info": {
   "codemirror_mode": {
    "name": "ipython",
    "version": 3
   },
   "file_extension": ".py",
   "mimetype": "text/x-python",
   "name": "python",
   "nbconvert_exporter": "python",
   "pygments_lexer": "ipython3",
   "version": "3.7.3"
  }
 },
 "nbformat": 4,
 "nbformat_minor": 2
}
